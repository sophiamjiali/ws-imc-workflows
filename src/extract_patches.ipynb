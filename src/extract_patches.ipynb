{
 "cells": [
  {
   "cell_type": "markdown",
   "id": "efac0f09",
   "metadata": {},
   "source": [
    "Note: for the paths to work, please move this file to the project root"
   ]
  },
  {
   "cell_type": "code",
   "execution_count": 41,
   "id": "4101d718",
   "metadata": {},
   "outputs": [
    {
     "name": "stdout",
     "output_type": "stream",
     "text": [
      "The autoreload extension is already loaded. To reload it, use:\n",
      "  %reload_ext autoreload\n"
     ]
    }
   ],
   "source": [
    "import sys\n",
    "import argparse\n",
    "import os\n",
    "import pandas as pd\n",
    "import zarr\n",
    "import json\n",
    "from pathlib import Path\n",
    "\n",
    "sys.path.append(\"/Users/sophiali/Desktop/ws-imc-workflows\")\n",
    "\n",
    "from utils.patch_utils import extract_patches\n",
    "from utils.io_utils import (\n",
    "    load_input_paths,\n",
    "    load_image,\n",
    "    load_panel,\n",
    "    load_config,\n",
    "    generate_wsi_id_mapping\n",
    ")\n",
    "\n",
    "%load_ext autoreload\n",
    "%autoreload 2"
   ]
  },
  {
   "cell_type": "code",
   "execution_count": 42,
   "id": "526d13bf",
   "metadata": {},
   "outputs": [],
   "source": [
    "# Mimic the command-line arguments\n",
    "args = argparse.Namespace(config = 'config/default.yaml', preprocess_images = True)"
   ]
  },
  {
   "cell_type": "code",
   "execution_count": 43,
   "id": "c1daa924",
   "metadata": {},
   "outputs": [],
   "source": [
    "# args = parse_arguments()\n",
    "config = load_config(args.config)\n",
    "img_files, file_type = load_input_paths(config)\n",
    "id_mapper = generate_wsi_id_mapping(img_files, config)\n",
    "panel = load_panel(img_files[0], file_type, config)"
   ]
  },
  {
   "cell_type": "code",
   "execution_count": 44,
   "id": "34114236",
   "metadata": {},
   "outputs": [],
   "source": [
    "# Fetch configurations\n",
    "patch_folder = Path(config.get('patch_extraction', {})\n",
    "                          .get('patch_folder', None))\n",
    "if patch_folder is None:\n",
    "    raise ValueError(\"Config must provide 'patch_extraction.patch_folder'\")"
   ]
  },
  {
   "cell_type": "code",
   "execution_count": 45,
   "id": "147e0671",
   "metadata": {},
   "outputs": [],
   "source": [
    "# Verify that tissue masks have been generated\n",
    "mask_folder = Path(config.get('patch_extraction', {})\n",
    "                        .get('mask_folder', None))\n",
    "if mask_folder is None:\n",
    "    raise ValueError(f\"Mask folder {mask_folder} does not exist. \" +\n",
    "                    \"If tissue masks have not been generated, \" + \n",
    "                    \"perform the tissue mask generation \" +\n",
    "                    \"workflow+ prior to extracting patches.\")"
   ]
  },
  {
   "cell_type": "code",
   "execution_count": 46,
   "id": "64ff74f7",
   "metadata": {},
   "outputs": [],
   "source": [
    "# Fetch the number of channels per image (assumed the same for all)\n",
    "test_img = load_image(img_files[0], file_type, panel)\n",
    "C = test_img.shape[0]\n",
    "H, W = config.get('patch_extraction', {}).get('patch_size', [0, 0])"
   ]
  },
  {
   "cell_type": "code",
   "execution_count": 47,
   "id": "b2eec6cd",
   "metadata": {},
   "outputs": [],
   "source": [
    "# Initialize the OME.zarr folder to record the patches and metadata\n",
    "zarr_root = zarr.open(patch_folder, mode = 'w')\n",
    "patch_group = zarr_root.create_group('patches')\n",
    "mask_group = zarr_root.create_group('masks')"
   ]
  },
  {
   "cell_type": "code",
   "execution_count": 48,
   "id": "e150bafe",
   "metadata": {},
   "outputs": [],
   "source": [
    "# Record global metadata\n",
    "patch_idx = 0\n",
    "manifest, patch_statistics = [], []\n",
    "cohort_stats = {'total_attempted_patches': 0, 'total_valid_patches': 0}"
   ]
  },
  {
   "cell_type": "code",
   "execution_count": null,
   "id": "cb14990f",
   "metadata": {},
   "outputs": [],
   "source": [
    "path = img_files[0]\n",
    "\n",
    "# Map the filepath to an internal WSI ID and create subgroups\n",
    "wsi_id = id_mapper[str(path)]\n",
    "img_patch_group = patch_group.create_group(wsi_id)\n",
    "img_mask_group = mask_group.create_group(wsi_id)\n",
    "\n",
    "# Enter per patch into the .zarr to avoid memory overhead\n",
    "stats = {'total_attempted': 0, 'total_valid': 0}"
   ]
  },
  {
   "cell_type": "code",
   "execution_count": null,
   "id": "d2f9702c",
   "metadata": {},
   "outputs": [],
   "source": [
    "for patch, p_mask, meta in extract_patches(path, file_type, wsi_id, panel, \n",
    "                                           stats, config, \n",
    "                                           args.preprocess_images):\n",
    "    \n",
    "    # Record the patch into the .zarr and build up the patch manifest\n",
    "    name = f\"{wsi_id}_y{meta['y']}_x{meta['x']}_patch_{patch_idx}\"\n",
    "    img_patch_group[name] = patch\n",
    "    img_mask_group[name] = p_mask\n",
    "    manifest.append({'patch_idx': patch_idx, **meta})\n",
    "\n",
    "    patch_idx += 1"
   ]
  },
  {
   "cell_type": "code",
   "execution_count": 39,
   "id": "9487f371",
   "metadata": {},
   "outputs": [],
   "source": [
    "# Update global metadata after each image is processed\n",
    "patch_statistics.append({\n",
    "    'wsi_id': wsi_id, \n",
    "    'attempted_patches': stats['total_attempted'],\n",
    "    'valid_patches': stats['total_valid']\n",
    "})\n",
    "cohort_stats['total_attempted_patches'] += stats['total_attempted']\n",
    "cohort_stats['total_valid_patches'] += stats['total_valid']"
   ]
  },
  {
   "cell_type": "code",
   "execution_count": 40,
   "id": "96ee7bd9",
   "metadata": {},
   "outputs": [],
   "source": [
    "# Write the metadata as CSVs and a JSON\n",
    "manifest_path = Path(os.path.join(\n",
    "    patch_folder, 'metadata', 'manifest.csv'\n",
    "))\n",
    "manifest_path.parent.mkdir(parents = True, exist_ok = True)\n",
    "pd.DataFrame(manifest).to_csv(manifest_path, index = False)\n",
    "\n",
    "stats_path = Path(os.path.join(\n",
    "    patch_folder, 'metadata', 'wsi_statistics.csv'\n",
    "))\n",
    "pd.DataFrame(patch_statistics).to_csv(stats_path, index = False)\n",
    "\n",
    "cohort_stats_path = Path(os.path.join(\n",
    "    patch_folder, 'metadata', 'cohort_statistics.json'\n",
    "))\n",
    "with open(cohort_stats_path, 'w') as f:\n",
    "    json.dump(cohort_stats, f, indent = 2)"
   ]
  }
 ],
 "metadata": {
  "kernelspec": {
   "display_name": "Python (torchenv)",
   "language": "python",
   "name": "torchenv"
  },
  "language_info": {
   "codemirror_mode": {
    "name": "ipython",
    "version": 3
   },
   "file_extension": ".py",
   "mimetype": "text/x-python",
   "name": "python",
   "nbconvert_exporter": "python",
   "pygments_lexer": "ipython3",
   "version": "3.11.13"
  }
 },
 "nbformat": 4,
 "nbformat_minor": 5
}
